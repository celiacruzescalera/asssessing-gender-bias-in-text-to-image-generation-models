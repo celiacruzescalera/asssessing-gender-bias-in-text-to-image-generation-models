{
  "nbformat": 4,
  "nbformat_minor": 0,
  "metadata": {
    "colab": {
      "provenance": []
    },
    "kernelspec": {
      "name": "python3",
      "display_name": "Python 3"
    },
    "language_info": {
      "name": "python"
    }
  },
  "cells": [
    {
      "cell_type": "code",
      "execution_count": null,
      "metadata": {
        "id": "SJSxfm6PEYuz"
      },
      "outputs": [],
      "source": [
        "import pandas as pd\n",
        "import json\n",
        "import matplotlib.pyplot as plt"
      ]
    },
    {
      "cell_type": "code",
      "source": [
        "data = pd.read_csv('./AMT_results.csv')"
      ],
      "metadata": {
        "id": "PawJ4huEEybW"
      },
      "execution_count": null,
      "outputs": []
    },
    {
      "cell_type": "code",
      "source": [
        "man_model1 = 0 \n",
        "woman_model1 = 0\n",
        "man_model2 = 0\n",
        "woman_model2 = 0"
      ],
      "metadata": {
        "id": "pRs4NGDsRbWI"
      },
      "execution_count": null,
      "outputs": []
    },
    {
      "cell_type": "code",
      "source": [
        "for r in data[\"Answer.taskAnswers\"]:\n",
        "  resultat = json.loads(r)\n",
        "  if (resultat[0][\"realvsgenerated\"][\"ImageA\"]):\n",
        "    url = resultat[0]['A']\n",
        "  else: \n",
        "    url = resultat[0]['B']\n",
        "\n",
        "  if (len(url) == 75):\n",
        "    num = int(url[59:61])\n",
        "  else: \n",
        "    num = int(url[59:62])\n",
        "\n",
        "  if (num % 2 == 0):\n",
        "    if(url[56:58] == \"02\"):\n",
        "      woman_model2 += 1\n",
        "    else:\n",
        "      woman_model1 += 1\n",
        "  else: \n",
        "    if(url[56:58] == \"02\"):\n",
        "      man_model2 += 1\n",
        "    else:\n",
        "      man_model1 += 1\n",
        " "
      ],
      "metadata": {
        "id": "k7iu9e8UNykJ"
      },
      "execution_count": null,
      "outputs": []
    },
    {
      "cell_type": "markdown",
      "source": [
        "# Model 1"
      ],
      "metadata": {
        "id": "XpEvtAD37m52"
      }
    },
    {
      "cell_type": "code",
      "source": [
        "# Results model 1\n",
        "\n",
        "# Numbers\n",
        "print(\"Number of the votings for man images of model 1: \", man_model1)\n",
        "print(\"Number of the votings for woman images of model 1: \", woman_model1)\n",
        "# Percentages\n",
        "man_percentatge1 = man_model1/(man_model1+woman_model1)*100\n",
        "woman_percentatge1 = woman_model1/(man_model1+woman_model1)*100\n",
        "print(\"Percentage of the votings for man images of model 1: \", man_percentatge1)\n",
        "print(\"Percentage of the votings for woman images of model 1: \", woman_percentatge1)"
      ],
      "metadata": {
        "colab": {
          "base_uri": "https://localhost:8080/"
        },
        "id": "oImgBGb7RfK3",
        "outputId": "ec434821-c489-436d-eee6-a4d850d8c781"
      },
      "execution_count": null,
      "outputs": [
        {
          "output_type": "stream",
          "name": "stdout",
          "text": [
            "Nombre de votacions per les fotos d'homes del model 1:  769\n",
            "Nombre de votacions per les fotos de dones del model 1:  711\n",
            "Percentatge de votacions per les fotos d'homes del model 1:  51.95945945945945\n",
            "Percentatge de votacions per les fotos de dones del model 1:  48.04054054054054\n"
          ]
        }
      ]
    },
    {
      "cell_type": "code",
      "source": [
        "# Pie chart model 1\n",
        "results = [769, 711]\n",
        "names = [\"Masculine\", \"Feminine\"]\n",
        "colors = [\"palegreen\", \"mediumseagreen\"]\n",
        "#colors = ['#27ae60', '#a2d9a8']\n",
        "#colors = ['#c0392b', '#ff6b6b']\n",
        "plt.pie(results, textprops={'fontsize': 15}, labels=names, colors=colors, autopct=\"%0.1f %%\")\n",
        "plt.show()"
      ],
      "metadata": {
        "colab": {
          "base_uri": "https://localhost:8080/",
          "height": 406
        },
        "id": "YQxuEfobZ4vt",
        "outputId": "2d7966dd-150e-41e7-cc91-9882e477529d"
      },
      "execution_count": null,
      "outputs": [
        {
          "output_type": "display_data",
          "data": {
            "text/plain": [
              "<Figure size 640x480 with 1 Axes>"
            ],
            "image/png": "[encoded data removed]"
          },
          "metadata": {}
        }
      ]
    },
    {
      "cell_type": "markdown",
      "source": [
        "# Model 2"
      ],
      "metadata": {
        "id": "rSEFD9b975su"
      }
    },
    {
      "cell_type": "code",
      "source": [
        "# Results model 2\n",
        "\n",
        "# Numbers\n",
        "print(\"Number of the votings for man images of model 2: \", man_model2)\n",
        "print(\"Number of the votings for woman images of del model 2: \", woman_model2)\n",
        "# Percentages\n",
        "man_percentatge2 = man_model2/(man_model2+woman_model2)*100\n",
        "woman_percentatge2 = woman_model2/(man_model2+woman_model2)*100\n",
        "print(\"Percentage of the votings for man images of model 2: \", man_percentatge2)\n",
        "print(\"Percentage of the votings for woman images of model 2: \", woman_percentatge2)"
      ],
      "metadata": {
        "colab": {
          "base_uri": "https://localhost:8080/"
        },
        "id": "Ps72kqzYSeyB",
        "outputId": "75fd92d7-9313-4116-d4ab-cc2b65fc344f"
      },
      "execution_count": null,
      "outputs": [
        {
          "output_type": "stream",
          "name": "stdout",
          "text": [
            "Nombre de votacions per les fotos d'homes del model 2:  794\n",
            "Nombre de votacions per les fotos de dones del model 2:  686\n",
            "Percentatge de votacions per les fotos d'homes del model 2:  53.648648648648646\n",
            "Percentatge de votacions per les fotos de dones del model 2:  46.35135135135135\n"
          ]
        }
      ]
    },
    {
      "cell_type": "code",
      "source": [
        "# Pie chart model 2\n",
        "results = [794, 686]\n",
        "names = [\"Masculine\", \"Feminine\"]\n",
        "colors = [\"palegreen\", \"mediumseagreen\"]\n",
        "#colors = ['#27ae60', '#a2d9a8']\n",
        "#colors = ['#c0392b', '#ff6b6b']\n",
        "plt.pie(results, textprops={'fontsize': 15}, labels=names, colors=colors, autopct=\"%0.1f %%\")\n",
        "plt.show()"
      ],
      "metadata": {
        "colab": {
          "base_uri": "https://localhost:8080/",
          "height": 406
        },
        "id": "9DoaCc6CheMC",
        "outputId": "8a6f6643-8f98-41dc-ad8a-bf4cf4d981d6"
      },
      "execution_count": null,
      "outputs": [
        {
          "output_type": "display_data",
          "data": {
            "text/plain": [
              "<Figure size 640x480 with 1 Axes>"
            ],
            "image/png": "[encoded data removed]"
          },
          "metadata": {}
        }
      ]
    }
  ]
}