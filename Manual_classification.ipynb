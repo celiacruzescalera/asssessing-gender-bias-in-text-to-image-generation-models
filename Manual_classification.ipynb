{
  "cells": [
    {
      "cell_type": "code",
      "execution_count": null,
      "metadata": {
        "colab": {
          "base_uri": "https://localhost:8080/"
        },
        "id": "XzoYViAry5lj",
        "outputId": "e8530d60-7adb-4007-cb71-c3e1f0e6d5a1"
      },
      "outputs": [
        {
          "output_type": "stream",
          "name": "stdout",
          "text": [
            "Mounted at /content/drive\n"
          ]
        }
      ],
      "source": [
        "from PIL import Image\n",
        "import time\n",
        "import json"
      ]
    },
    {
      "cell_type": "markdown",
      "source": [
        "# MODEL 1"
      ],
      "metadata": {
        "id": "CFVbczA4rLpq"
      }
    },
    {
      "cell_type": "code",
      "execution_count": null,
      "metadata": {
        "id": "TqpNaVSnR4yT"
      },
      "outputs": [],
      "source": [
        "manual_classification1 = {}\n",
        "path = \"./Images/Model_1/Gender_Neutral/\"\n",
        "tipus_imatge = \"_nogender.png\""
      ]
    },
    {
      "cell_type": "code",
      "execution_count": null,
      "metadata": {
        "id": "scFaz1LJz6ek"
      },
      "outputs": [],
      "source": [
        "# Manual classification MODEL 1\n",
        "\n",
        "for i in range (71):\n",
        "  # A la \"i\" li hem de sumar 1\n",
        "  if((i + 1) < 10):\n",
        "    num_img_principi = \"01_0\" + str(i + 1)\n",
        "  else: \n",
        "    num_img_principi = \"01_\" + str(i + 1)\n",
        "  \n",
        "  for j in range(10):\n",
        "    num_img = num_img_principi\n",
        "    if((j + 1) < 10):\n",
        "      num_img += \"_0\" + str(j + 1)\n",
        "    else: \n",
        "      num_img += \"_\" + str(j + 1)\n",
        "    img = Image.open(path + num_img + tipus_imatge)\n",
        "    img.show()\n",
        "    time.sleep(1)\n",
        "    valor = input()\n",
        "    img.close()\n",
        "    manual_classification1[num_img] = valor"
      ]
    },
    {
      "cell_type": "code",
      "execution_count": null,
      "metadata": {
        "id": "-dS1c35Io50w"
      },
      "outputs": [],
      "source": [
        "with open(\"./Model1_manual_classification.json\", \"w\") as archivo:\n",
        "    json.dump(manual_classification1, archivo)"
      ]
    },
    {
      "cell_type": "markdown",
      "source": [
        "# MODEL 2"
      ],
      "metadata": {
        "id": "4kUQ3U3Fsg4p"
      }
    },
    {
      "cell_type": "code",
      "source": [
        "manual_classification2 = {}\n",
        "path = \"./Images/Model_2/Gender_Neutral/\"\n",
        "tipus_imatge = \"_nogender.png\""
      ],
      "metadata": {
        "id": "FI32s-dxsmRK"
      },
      "execution_count": null,
      "outputs": []
    },
    {
      "cell_type": "code",
      "source": [
        "# Manual classification MODEL 2\n",
        "\n",
        "for i in range (71):\n",
        "  # A la \"i\" li hem de sumar 1\n",
        "  if((i + 1) < 10):\n",
        "    num_img_principi = \"03_0\" + str(i + 1)\n",
        "  else: \n",
        "    num_img_principi = \"03_\" + str(i + 1)\n",
        "  \n",
        "  for j in range(10):\n",
        "    num_img = num_img_principi\n",
        "    if((j + 1) < 10):\n",
        "      num_img += \"_0\" + str(j + 1)\n",
        "    else: \n",
        "      num_img += \"_\" + str(j + 1)\n",
        "    img = Image.open(path + num_img + tipus_imatge)\n",
        "    img.show()\n",
        "    time.sleep(1)\n",
        "    valor = input()\n",
        "    img.close()\n",
        "    manual_classification2[num_img] = valor"
      ],
      "metadata": {
        "id": "-Cjuc0Q_ssXi"
      },
      "execution_count": null,
      "outputs": []
    },
    {
      "cell_type": "code",
      "source": [
        "with open(\"./Model2_manual_classification.json\", \"w\") as archivo:\n",
        "    json.dump(manual_classification2, archivo)"
      ],
      "metadata": {
        "id": "t9LA4P4ss1YQ"
      },
      "execution_count": null,
      "outputs": []
    }
  ],
  "metadata": {
    "colab": {
      "provenance": []
    },
    "kernelspec": {
      "display_name": "Python 3",
      "name": "python3"
    },
    "language_info": {
      "name": "python"
    }
  },
  "nbformat": 4,
  "nbformat_minor": 0
}