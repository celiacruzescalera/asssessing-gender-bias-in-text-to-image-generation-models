{
  "nbformat": 4,
  "nbformat_minor": 0,
  "metadata": {
    "colab": {
      "provenance": []
    },
    "kernelspec": {
      "name": "python3",
      "display_name": "Python 3"
    },
    "language_info": {
      "name": "python"
    }
  },
  "cells": [
    {
      "cell_type": "code",
      "source": [
        "import json"
      ],
      "metadata": {
        "id": "d9aEQx7L8Pq2"
      },
      "execution_count": null,
      "outputs": []
    },
    {
      "cell_type": "code",
      "source": [
        "!pip install opencv-python"
      ],
      "metadata": {
        "colab": {
          "base_uri": "https://localhost:8080/"
        },
        "id": "NPv1NYnkrIH6",
        "outputId": "b8e63e2f-8695-429b-d82f-7a474ed566c0"
      },
      "execution_count": null,
      "outputs": [
        {
          "output_type": "stream",
          "name": "stdout",
          "text": [
            "Looking in indexes: https://pypi.org/simple, https://us-python.pkg.dev/colab-wheels/public/simple/\n",
            "Requirement already satisfied: opencv-python in /usr/local/lib/python3.10/dist-packages (4.7.0.72)\n",
            "Requirement already satisfied: numpy>=1.21.2 in /usr/local/lib/python3.10/dist-packages (from opencv-python) (1.22.4)\n"
          ]
        }
      ]
    },
    {
      "cell_type": "code",
      "source": [
        "!pip install argparse"
      ],
      "metadata": {
        "colab": {
          "base_uri": "https://localhost:8080/",
          "height": 197
        },
        "id": "1qagc7I5iHnw",
        "outputId": "c6947cb1-7d17-4557-950f-4d08fe1948af"
      },
      "execution_count": null,
      "outputs": [
        {
          "output_type": "stream",
          "name": "stdout",
          "text": [
            "Looking in indexes: https://pypi.org/simple, https://us-python.pkg.dev/colab-wheels/public/simple/\n",
            "Collecting argparse\n",
            "  Downloading argparse-1.4.0-py2.py3-none-any.whl (23 kB)\n",
            "Installing collected packages: argparse\n",
            "Successfully installed argparse-1.4.0\n"
          ]
        },
        {
          "output_type": "display_data",
          "data": {
            "application/vnd.colab-display-data+json": {
              "pip_warning": {
                "packages": [
                  "argparse"
                ]
              }
            }
          },
          "metadata": {}
        }
      ]
    },
    {
      "cell_type": "code",
      "source": [
        "!git clone https://github.com/smahesh29/Gender-and-Age-Detection.git"
      ],
      "metadata": {
        "colab": {
          "base_uri": "https://localhost:8080/"
        },
        "id": "Mq2Egy0ntJI3",
        "outputId": "438970ee-b2ee-4d12-b69a-0826b209e160"
      },
      "execution_count": null,
      "outputs": [
        {
          "output_type": "stream",
          "name": "stdout",
          "text": [
            "Cloning into 'Gender-and-Age-Detection'...\n",
            "remote: Enumerating objects: 72, done.\u001b[K\n",
            "remote: Counting objects: 100% (23/23), done.\u001b[K\n",
            "remote: Compressing objects: 100% (10/10), done.\u001b[K\n",
            "remote: Total 72 (delta 19), reused 13 (delta 13), pack-reused 49\u001b[K\n",
            "Unpacking objects: 100% (72/72), 90.73 MiB | 7.75 MiB/s, done.\n"
          ]
        }
      ]
    },
    {
      "cell_type": "code",
      "source": [
        "%cd Gender-and-Age-Detection"
      ],
      "metadata": {
        "colab": {
          "base_uri": "https://localhost:8080/"
        },
        "id": "n6kmFzDmtMnY",
        "outputId": "a7261b4b-b8a0-44ed-98bf-9973c7d71133"
      },
      "execution_count": null,
      "outputs": [
        {
          "output_type": "stream",
          "name": "stdout",
          "text": [
            "/content/Gender-and-Age-Detection\n"
          ]
        }
      ]
    },
    {
      "cell_type": "markdown",
      "source": [
        "# MODEL 1"
      ],
      "metadata": {
        "id": "vSeGd4ZPunRN"
      }
    },
    {
      "cell_type": "code",
      "source": [
        "automatic_classification1 = {} \n",
        "img_path = \"../Images/Model_1/Gender_Neutral/\"\n",
        "tipus_imatge = \"_nogender.png\""
      ],
      "metadata": {
        "id": "EykbMN8LxuQK"
      },
      "execution_count": null,
      "outputs": []
    },
    {
      "cell_type": "code",
      "source": [
        "# Automatic classification MODEL 1\n",
        "\n",
        "for i in range (71):\n",
        "  # A la \"i\" li hem de sumar 1\n",
        "  if((i + 1) < 10):\n",
        "    num_img_principi = \"01_0\" + str(i + 1)\n",
        "  else: \n",
        "    num_img_principi = \"01_\" + str(i + 1)\n",
        "  \n",
        "  for j in range(10):\n",
        "    num_img = num_img_principi\n",
        "    if((j + 1) < 10):\n",
        "      num_img += \"_0\" + str(j + 1)\n",
        "    else: \n",
        "      num_img += \"_\" + str(j + 1)\n",
        "    num_img_url = num_img + tipus_imatge\n",
        "    execution = f\"python detect.py --image {img_path}/{num_img_url}\"\n",
        "    output = !{execution}\n",
        "    if (output[0][8:] == 'detected'):\n",
        "      gender = output[0]\n",
        "    else:\n",
        "      gender = output[0][8:]\n",
        "    automatic_classification1[num_img] = gender"
      ],
      "metadata": {
        "id": "FUxwI6EwyDaV"
      },
      "execution_count": null,
      "outputs": []
    },
    {
      "cell_type": "code",
      "source": [
        "with open(\"../Model1_automatic_classification.json\", \"w\") as archivo:\n",
        "    json.dump(automatic_classification1, archivo)"
      ],
      "metadata": {
        "id": "vcpGPR__78qC"
      },
      "execution_count": null,
      "outputs": []
    },
    {
      "cell_type": "markdown",
      "source": [
        "# MODEL 2"
      ],
      "metadata": {
        "id": "cDcVweCFvHjY"
      }
    },
    {
      "cell_type": "code",
      "source": [
        "automatic_classification_model2 = {} \n",
        "img_path = \"../Images/Model_2/Gender_Neutral/\"\n",
        "tipus_imatge = \"_nogender.png\""
      ],
      "metadata": {
        "id": "Kkmzg3JC77gf"
      },
      "execution_count": null,
      "outputs": []
    },
    {
      "cell_type": "code",
      "source": [
        "# Automatic classification MODEL 2\n",
        "\n",
        "for i in range (71):\n",
        "  # A la \"i\" li hem de sumar 1\n",
        "  if((i + 1) < 10):\n",
        "    num_img_principi = \"03_0\" + str(i + 1)\n",
        "  else: \n",
        "    num_img_principi = \"03_\" + str(i + 1)\n",
        "  \n",
        "  for j in range(10):\n",
        "    num_img = num_img_principi\n",
        "    if((j + 1) < 10):\n",
        "      num_img += \"_0\" + str(j + 1)\n",
        "    else: \n",
        "      num_img += \"_\" + str(j + 1)\n",
        "    num_img_url = num_img + tipus_imatge\n",
        "    execution = f\"python detect.py --image {img_path}/{num_img_url}\"\n",
        "    output = !{execution}\n",
        "    if (output[0][8:] == 'detected'):\n",
        "      gender = output[0]\n",
        "    else:\n",
        "      gender = output[0][8:]\n",
        "    automatic_classification2[num_img] = gender"
      ],
      "metadata": {
        "id": "sDo3Xcuw8fcg"
      },
      "execution_count": null,
      "outputs": []
    },
    {
      "cell_type": "code",
      "source": [
        "with open(\"../Model2_automatic_classification.json\", \"w\") as archivo:\n",
        "    json.dump(automatic_classification_model2, archivo)"
      ],
      "metadata": {
        "id": "WdVZjqii8_M4"
      },
      "execution_count": null,
      "outputs": []
    }
  ]
}