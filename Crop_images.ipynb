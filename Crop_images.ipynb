{
  "nbformat": 4,
  "nbformat_minor": 0,
  "metadata": {
    "colab": {
      "provenance": []
    },
    "kernelspec": {
      "name": "python3",
      "display_name": "Python 3"
    },
    "language_info": {
      "name": "python"
    }
  },
  "cells": [
    {
      "cell_type": "code",
      "source": [
        "import matplotlib.pyplot as plt\n",
        "import matplotlib.image as mpimg\n",
        "from PIL import Image\n",
        "import random"
      ],
      "metadata": {
        "id": "_26bbMJ3SMsE"
      },
      "execution_count": null,
      "outputs": []
    },
    {
      "cell_type": "markdown",
      "source": [
        "# Model 1"
      ],
      "metadata": {
        "id": "6KzvXE3eA5N_"
      }
    },
    {
      "cell_type": "code",
      "source": [
        "# Crops \n",
        "\n",
        "path_imatges = \"./Images/Model_1/Gender_Specified/\"\n",
        "path_crops = \"./Crops/Model_1/\"\n",
        "tipus_imatge = \".png\"\n",
        "\n",
        "for i in range (148):\n",
        "\n",
        "  if((i + 1) < 10):\n",
        "    num_img_principi = \"02_0\" + str(i + 1)\n",
        "  else: \n",
        "    num_img_principi = \"02_\" + str(i + 1)\n",
        "  \n",
        "  if ((i+ 1) % 2 ==  0):\n",
        "    genere = \"_femenine\"\n",
        "  else:\n",
        "    genere = \"_masculine\"\n",
        "\n",
        "  for j in range(10):\n",
        "    num_img = num_img_principi\n",
        "\n",
        "    if((j + 1) < 10):\n",
        "      num_img += \"_0\" + str(j + 1)\n",
        "    else: \n",
        "      num_img += \"_\" + str(j + 1)\n",
        "    \n",
        "    img = Image.open(path_imatges + num_img + genere + tipus_imatge)\n",
        "    width, height = img.size\n",
        "\n",
        "    # Setting the points for cropped image 1\n",
        "    left1 = random.randint(1, 384)\n",
        "    top1 = random.randint(1, 384)\n",
        "    right1 = left1 + 128\n",
        "    bottom1 = top1 + 128\n",
        "\n",
        "    # Setting the points for cropped image 2\n",
        "    left2 = random.randint(1, 384)\n",
        "    top2 = random.randint(1, 384)\n",
        "    right2 = left2 + 128\n",
        "    bottom2 = top2 + 128\n",
        "    \n",
        "    # Cropped image 1 \n",
        "    crop_img1 = img.crop((left1, top1, right1, bottom1))\n",
        "    crop_img1.save(path_crops + num_img + '_crop_1.png')\n",
        "\n",
        "    # Cropped image 2\n",
        "    crop_img2 = img.crop((left2, top2, right2, bottom2))\n",
        "    crop_img2.save(path_crops + num_img + '_crop_2.png')"
      ],
      "metadata": {
        "id": "JAbsBfRLP-Cb",
        "colab": {
          "base_uri": "https://localhost:8080/",
          "height": 371
        },
        "outputId": "e967372e-8b08-4fc7-cc7b-4740584b8825"
      },
      "execution_count": null,
      "outputs": [
        {
          "output_type": "error",
          "ename": "FileNotFoundError",
          "evalue": "ignored",
          "traceback": [
            "\u001b[0;31m---------------------------------------------------------------------------\u001b[0m",
            "\u001b[0;31mFileNotFoundError\u001b[0m                         Traceback (most recent call last)",
            "\u001b[0;32m<ipython-input-6-b1039604b81b>\u001b[0m in \u001b[0;36m<cell line: 7>\u001b[0;34m()\u001b[0m\n\u001b[1;32m     26\u001b[0m       \u001b[0mnum_img\u001b[0m \u001b[0;34m+=\u001b[0m \u001b[0;34m\"_\"\u001b[0m \u001b[0;34m+\u001b[0m \u001b[0mstr\u001b[0m\u001b[0;34m(\u001b[0m\u001b[0mj\u001b[0m \u001b[0;34m+\u001b[0m \u001b[0;36m1\u001b[0m\u001b[0;34m)\u001b[0m\u001b[0;34m\u001b[0m\u001b[0;34m\u001b[0m\u001b[0m\n\u001b[1;32m     27\u001b[0m \u001b[0;34m\u001b[0m\u001b[0m\n\u001b[0;32m---> 28\u001b[0;31m     \u001b[0mimg\u001b[0m \u001b[0;34m=\u001b[0m \u001b[0mImage\u001b[0m\u001b[0;34m.\u001b[0m\u001b[0mopen\u001b[0m\u001b[0;34m(\u001b[0m\u001b[0mpath_imatges\u001b[0m \u001b[0;34m+\u001b[0m \u001b[0mnum_img\u001b[0m \u001b[0;34m+\u001b[0m \u001b[0mgenere\u001b[0m \u001b[0;34m+\u001b[0m \u001b[0mtipus_imatge\u001b[0m\u001b[0;34m)\u001b[0m\u001b[0;34m\u001b[0m\u001b[0;34m\u001b[0m\u001b[0m\n\u001b[0m\u001b[1;32m     29\u001b[0m     \u001b[0mwidth\u001b[0m\u001b[0;34m,\u001b[0m \u001b[0mheight\u001b[0m \u001b[0;34m=\u001b[0m \u001b[0mimg\u001b[0m\u001b[0;34m.\u001b[0m\u001b[0msize\u001b[0m\u001b[0;34m\u001b[0m\u001b[0;34m\u001b[0m\u001b[0m\n\u001b[1;32m     30\u001b[0m \u001b[0;34m\u001b[0m\u001b[0m\n",
            "\u001b[0;32m/usr/local/lib/python3.10/dist-packages/PIL/Image.py\u001b[0m in \u001b[0;36mopen\u001b[0;34m(fp, mode, formats)\u001b[0m\n\u001b[1;32m   2973\u001b[0m \u001b[0;34m\u001b[0m\u001b[0m\n\u001b[1;32m   2974\u001b[0m     \u001b[0;32mif\u001b[0m \u001b[0mfilename\u001b[0m\u001b[0;34m:\u001b[0m\u001b[0;34m\u001b[0m\u001b[0;34m\u001b[0m\u001b[0m\n\u001b[0;32m-> 2975\u001b[0;31m         \u001b[0mfp\u001b[0m \u001b[0;34m=\u001b[0m \u001b[0mbuiltins\u001b[0m\u001b[0;34m.\u001b[0m\u001b[0mopen\u001b[0m\u001b[0;34m(\u001b[0m\u001b[0mfilename\u001b[0m\u001b[0;34m,\u001b[0m \u001b[0;34m\"rb\"\u001b[0m\u001b[0;34m)\u001b[0m\u001b[0;34m\u001b[0m\u001b[0;34m\u001b[0m\u001b[0m\n\u001b[0m\u001b[1;32m   2976\u001b[0m         \u001b[0mexclusive_fp\u001b[0m \u001b[0;34m=\u001b[0m \u001b[0;32mTrue\u001b[0m\u001b[0;34m\u001b[0m\u001b[0;34m\u001b[0m\u001b[0m\n\u001b[1;32m   2977\u001b[0m \u001b[0;34m\u001b[0m\u001b[0m\n",
            "\u001b[0;31mFileNotFoundError\u001b[0m: [Errno 2] No such file or directory: './drive/MyDrive/TFG/Model 2/Imatges/Genere/02_149_01_masculine.png'"
          ]
        }
      ]
    },
    {
      "cell_type": "markdown",
      "source": [
        "# Model 2"
      ],
      "metadata": {
        "id": "pD8ydU_iBgxf"
      }
    },
    {
      "cell_type": "code",
      "source": [
        "# Crops \n",
        "\n",
        "path_imatges = \"./Images/Model_2/Gender_Specified/\"\n",
        "path_crops = \"./Crops/Model_2/\"\n",
        "tipus_imatge = \".png\"\n",
        "\n",
        "for i in range (148):\n",
        "\n",
        "  if((i + 1) < 10):\n",
        "    num_img_principi = \"04_0\" + str(i + 1)\n",
        "  else: \n",
        "    num_img_principi = \"04_\" + str(i + 1)\n",
        "  \n",
        "  if ((i+ 1) % 2 ==  0):\n",
        "    genere = \"_femenine\"\n",
        "  else:\n",
        "    genere = \"_masculine\"\n",
        "\n",
        "  for j in range(10):\n",
        "    num_img = num_img_principi\n",
        "\n",
        "    if((j + 1) < 10):\n",
        "      num_img += \"_0\" + str(j + 1)\n",
        "    else: \n",
        "      num_img += \"_\" + str(j + 1)\n",
        "    \n",
        "    img = Image.open(path_imatges + num_img + genere + tipus_imatge)\n",
        "    width, height = img.size\n",
        "\n",
        "    # Setting the points for cropped image 1\n",
        "    left1 = random.randint(1, 384)\n",
        "    top1 = random.randint(1, 384)\n",
        "    right1 = left1 + 128\n",
        "    bottom1 = top1 + 128\n",
        "\n",
        "    # Setting the points for cropped image 2\n",
        "    left2 = random.randint(1, 384)\n",
        "    top2 = random.randint(1, 384)\n",
        "    right2 = left2 + 128\n",
        "    bottom2 = top2 + 128\n",
        "    \n",
        "    # Cropped image 1 \n",
        "    crop_img1 = img.crop((left1, top1, right1, bottom1))\n",
        "    crop_img1.save(path_crops + num_img + '_crop_1.png')\n",
        "\n",
        "    # Cropped image 2\n",
        "    crop_img2 = img.crop((left2, top2, right2, bottom2))\n",
        "    crop_img2.save(path_crops + num_img + '_crop_2.png')"
      ],
      "metadata": {
        "id": "mqf8pVTZBiii"
      },
      "execution_count": null,
      "outputs": []
    }
  ]
}